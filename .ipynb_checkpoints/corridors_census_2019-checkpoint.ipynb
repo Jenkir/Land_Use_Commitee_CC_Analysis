{
 "cells": [
  {
   "cell_type": "markdown",
   "id": "2ff604a0",
   "metadata": {},
   "source": [
    "2019 Census Data for Selected Variables - Baltimore City"
   ]
  },
  {
   "cell_type": "code",
   "execution_count": 1,
   "id": "81ae0293",
   "metadata": {},
   "outputs": [],
   "source": [
    "#pip install us"
   ]
  },
  {
   "cell_type": "code",
   "execution_count": 2,
   "id": "839fe367",
   "metadata": {},
   "outputs": [],
   "source": [
    "# pip install censusgeocode\n",
    "# pip install censusdata"
   ]
  },
  {
   "cell_type": "code",
   "execution_count": 3,
   "id": "dd7821cb",
   "metadata": {},
   "outputs": [
    {
     "name": "stdout",
     "output_type": "stream",
     "text": [
      "Collecting package metadata (current_repodata.json): ...working... done\n",
      "Solving environment: ...working... done\n",
      "\n",
      "# All requested packages already installed.\n",
      "\n",
      "\n",
      "Note: you may need to restart the kernel to use updated packages.\n"
     ]
    }
   ],
   "source": [
    "conda install -c conda-forge cenpy"
   ]
  },
  {
   "cell_type": "code",
   "execution_count": 4,
   "id": "9e834d59",
   "metadata": {},
   "outputs": [
    {
     "name": "stdout",
     "output_type": "stream",
     "text": [
      "Collecting package metadata (current_repodata.json): ...working... done\n",
      "Solving environment: ...working... done\n",
      "\n",
      "# All requested packages already installed.\n",
      "\n",
      "\n",
      "Note: you may need to restart the kernel to use updated packages.\n"
     ]
    }
   ],
   "source": [
    "conda update -n base -c defaults conda\n"
   ]
  },
  {
   "cell_type": "code",
   "execution_count": 5,
   "id": "593665e3",
   "metadata": {},
   "outputs": [],
   "source": [
    "# From https://cenpy-devs.github.io/cenpy/:\n",
    "# Cenpy (pronounced sen-pie) is a package that automatically discovers US Census Bureau API endpoints and exposes them to Python in a consistent fashion. \n",
    "# It also provides easy-to-use access to certain well-used data products, like the American Community Survey (ACS) and 2010 Decennial Census.\n",
    "#pip install cenpy"
   ]
  },
  {
   "cell_type": "code",
   "execution_count": 6,
   "id": "361cc873",
   "metadata": {},
   "outputs": [],
   "source": [
    "# From https://www.census.gov/programs-surveys/acs/guidance/comparing-acs-data.html:\n",
    "# \"Due to the impact of the COVID-19 pandemic, the Census Bureau changed the 2020 ACS release. \n",
    "# Instead of providing the standard 1-year data products, the Census Bureau released experimental estimates from the 1-year data. \n",
    "# Data users should not compare 2020 ACS 1-year experimental estimates with any other data.\"\""
   ]
  },
  {
   "cell_type": "code",
   "execution_count": 7,
   "id": "05dfe4a8",
   "metadata": {},
   "outputs": [
    {
     "name": "stderr",
     "output_type": "stream",
     "text": [
      "C:\\Users\\Jenkir\\anaconda3\\envs\\PythonData\\lib\\site-packages\\libpysal\\weights\\util.py:23: UserWarning: geopandas not available. Some functionality will be disabled.\n",
      "  warn(\"geopandas not available. Some functionality will be disabled.\")\n"
     ]
    }
   ],
   "source": [
    "# Dependencies\n",
    "import numpy as np\n",
    "import pandas as pd\n",
    "import matplotlib.pyplot as plt\n",
    "import requests\n",
    "from census import Census\n",
    "from us import states\n",
    "import censusdata \n",
    "import censusgeocode as cg\n",
    "import cenpy\n",
    "import gmaps\n",
    "import time\n",
    "from scipy.stats import linregress\n",
    "from matplotlib import pyplot as plt\n",
    "\n",
    "# Census & gmaps API Keys\n",
    "from config import (api_key, gkey)\n",
    "c = Census(api_key, year=2019)\n",
    "\n",
    "# Configure gmaps\n",
    "#gmaps.configure(api_key=gkey)"
   ]
  },
  {
   "cell_type": "code",
   "execution_count": 8,
   "id": "a00db1f6",
   "metadata": {},
   "outputs": [],
   "source": [
    "# search function\n",
    "#sample = censusdata.search('acs5', 2019, 'concept', 'age ')\n",
    "#print(sample)\n"
   ]
  },
  {
   "cell_type": "code",
   "execution_count": 9,
   "id": "015e6842",
   "metadata": {},
   "outputs": [
    {
     "ename": "NameError",
     "evalue": "name 'variables' is not defined",
     "output_type": "error",
     "traceback": [
      "\u001b[1;31m---------------------------------------------------------------------------\u001b[0m",
      "\u001b[1;31mNameError\u001b[0m                                 Traceback (most recent call last)",
      "\u001b[1;32m<ipython-input-9-4386779a3984>\u001b[0m in \u001b[0;36m<module>\u001b[1;34m\u001b[0m\n\u001b[0;32m      3\u001b[0m \u001b[1;31m# for this data, when it's N/A, it's for other kinds of API variables.\u001b[0m\u001b[1;33m\u001b[0m\u001b[1;33m\u001b[0m\u001b[1;33m\u001b[0m\u001b[0m\n\u001b[0;32m      4\u001b[0m \u001b[1;31m# so let's leave those out:\u001b[0m\u001b[1;33m\u001b[0m\u001b[1;33m\u001b[0m\u001b[1;33m\u001b[0m\u001b[0m\n\u001b[1;32m----> 5\u001b[1;33m \u001b[0mshort_vars\u001b[0m \u001b[1;33m=\u001b[0m \u001b[0mvariables\u001b[0m\u001b[1;33m[\u001b[0m\u001b[1;33m~\u001b[0m\u001b[1;33m(\u001b[0m\u001b[0mvariables\u001b[0m\u001b[1;33m[\u001b[0m\u001b[1;34m'group'\u001b[0m\u001b[1;33m]\u001b[0m \u001b[1;33m==\u001b[0m \u001b[1;34m'N/A'\u001b[0m\u001b[1;33m)\u001b[0m\u001b[1;33m]\u001b[0m\u001b[1;33m\u001b[0m\u001b[1;33m\u001b[0m\u001b[0m\n\u001b[0m\u001b[0;32m      6\u001b[0m \u001b[1;33m\u001b[0m\u001b[0m\n\u001b[0;32m      7\u001b[0m \u001b[1;31m# So now this is an easy way to get a list of all of the table IDs and their titles\u001b[0m\u001b[1;33m\u001b[0m\u001b[1;33m\u001b[0m\u001b[1;33m\u001b[0m\u001b[0m\n",
      "\u001b[1;31mNameError\u001b[0m: name 'variables' is not defined"
     ]
    }
   ],
   "source": [
    "# Code/ info. below borrowed from https://github.com/censusreporter/nicar20-advanced-census-python/blob/master/workshop.ipynb\n",
    "# values for 'group' are ACS table IDs; \n",
    "# for this data, when it's N/A, it's for other kinds of API variables.\n",
    "# so let's leave those out:\n",
    "short_vars = variables[~(variables['group'] == 'N/A')] \n",
    "\n",
    "# So now this is an easy way to get a list of all of the table IDs and their titles\n",
    "short_vars[['group', 'concept']].drop_duplicates().sort_values('group').head(10) \n"
   ]
  },
  {
   "cell_type": "code",
   "execution_count": null,
   "id": "e527ace8",
   "metadata": {},
   "outputs": [],
   "source": [
    "#  to see list of all tables in the ACS5\n",
    "# c.acs5.tables()"
   ]
  },
  {
   "cell_type": "code",
   "execution_count": null,
   "id": "10e8ad88",
   "metadata": {},
   "outputs": [],
   "source": [
    "censusdata.printtable(censusdata.censustable('acs1', 2019, 'B08604'))"
   ]
  },
  {
   "cell_type": "code",
   "execution_count": null,
   "id": "9440c23b",
   "metadata": {},
   "outputs": [],
   "source": [
    "# Run Census Search to retrieve data on Baltimore City, MD (all census tracts in Baltimore City)\n",
    "# ***See https://api.census.gov/data/2019/acs/acs5/groups.html  for list of variables and groups for the ACS 5-year estimates***\n",
    "# ex. \"B23025_005E\" is \"unemployment count\"\n",
    "# The state FIPS code for MD is 24 and the FIPS code for Balt City is 510\n",
    "census_data = c.acs5.state_county_tract((\"NAME\", \"B19013_001E\", \"B01003_001E\", \"B01002_001E\",\n",
    "                          \"B19301_001E\",\n",
    "                          \"B17001_002E\",\n",
    "                          \"B23025_005E\",\n",
    "                          \"B23025_004E\",                                                            \n",
    "                          \"B15003_017E\",\n",
    "                          \"B15003_022E\",                \n",
    "                          \"B02001_002E\",\n",
    "                          \"B02001_003E\",\n",
    "                          \"B02001_008E\",\n",
    "                          \"B03001_003E\",\n",
    "                          \"B25008_002E\",\n",
    "                          \"B28007_001E\",\n",
    "                          \"B25003_002E\",\n",
    "                          \"S0101_C01_002E\",               \n",
    "                          \"B25003_003E\"),               \n",
    "                          state_fips = \"24\",\n",
    "                          county_fips = \"510\",\n",
    "                          tract = \"*\")\n",
    "census_pd = pd.DataFrame(census_data)\n",
    "census_pd.head()\n",
    "                         "
   ]
  },
  {
   "cell_type": "code",
   "execution_count": null,
   "id": "a8308c8c",
   "metadata": {},
   "outputs": [],
   "source": [
    "# did not add in daytime population - will use ESRI business analyst for this \n",
    "# See https://www.census.gov/topics/employment/commuting/guidance/calculations.html\n",
    "# \"commuter-adjusted daytime population estimates\" =    \n",
    "#         total resident population + total workers working in area - total workers living in area\n",
    "\n",
    "# For \"Workers in Workplace Geography,\" see https://www.census.gov/topics/employment/commuting/guidance/calculations.html\n",
    "# \"Total workers working in area:\n",
    "# B08604 Total Workers for Workplace Geography\n",
    "# B08604 is only available for data years 2011 and after. \n",
    "# The tables for workplace geography are only available for the following geographic summary levels: States; \n",
    "# Counties; Places; County Subdivisions in selected states (not MD); Combined Statistical Areas; Metropolitan \n",
    "# and Micropolitan Statistical Areas, and their associated Metropolitan Divisions and Principal Cities; \n",
    "\n",
    "census_data_workers = c.acs5.state_county((\"NAME\", \n",
    "                          \"B08604_001E\"),               \n",
    "                          state_fips = \"24\",\n",
    "                          county_fips = \"510\") \n",
    "\n",
    "# convert to dataframe\n",
    "workers_df = pd.DataFrame(census_data_workers)\n",
    "workers_df\n",
    "                         "
   ]
  },
  {
   "cell_type": "code",
   "execution_count": null,
   "id": "0b51392c",
   "metadata": {},
   "outputs": [],
   "source": [
    "# Create Geographic Identifier (\"GEOID\") for each census tract by adding state fips code + county fips code + census tract #\n",
    "# see https://www.census.gov/programs-surveys/geography/guidance/geo-identifiers.html#:~:text=The%20full%20GEOID%20for%20many,codes%2C%20in%20which%20they%20nest.\n",
    "census_pd[\"GEOID\"] = census_pd['state'] + census_pd['county'] + census_pd['tract']\n",
    "census_pd.head()"
   ]
  },
  {
   "cell_type": "code",
   "execution_count": null,
   "id": "07f7fdd3",
   "metadata": {},
   "outputs": [],
   "source": [
    "# number of rows = # of census tracts in the dataframe\n",
    "print(\"Number of rows, columns: \", census_pd.shape)"
   ]
  },
  {
   "cell_type": "code",
   "execution_count": null,
   "id": "ebb14405",
   "metadata": {},
   "outputs": [],
   "source": [
    "# Replace the census variable codes (such as \"B19013_001E\") in the dataframe with text so it's more easily understandable\n",
    "                                      \"B01003_001E\": \"Population\",\n",
    "                                      \"B01002_001E\": \"Median age\",\n",
    "                                      \"B19301_001E\": \"Per capita income\", \n",
    "                                      \"B17001_002E\": \"Poverty count\",\n",
    "                                      \"B23025_004E\": \"# employed, age 16+\",\n",
    "                                      \"B23025_005E\": \"Unemployment count\",\n",
    "                                      \"B15003_017E\": \"# persons age 25+ graduated high school\",\n",
    "                                      \"B15003_022E\": \"# persons age 25+ with Bachelor's degree\",\n",
    "                                      \"B02001_002E\": \"Pop. white\",\n",
    "                                      \"B02001_003E\": \"Pop. Black\",\n",
    "                                      \"B02001_008E\": \"Pop. 2 or more races\",\n",
    "                                      \"B03001_003E\": \"Pop. Hispanic origin\",\n",
    "                                      \"B25008_002E\": \"Total pop. in occupied housing units by tenure\",\n",
    "                                      \"B25003_002E\": \"Total owner-occupied units\",\n",
    "                                      \"B25003_003E\": \"Total renter-occupied units\",\n",
    "                                      \"B28007_001E\": \"Labor force status by presence of computer/ internet in HH\",\n",
    "                                      \"NAME\": \"Name\", \"state\": \"State\", \"GEOID\": \"GEOID\"})\n",
    "\n",
    "# Add a new column for poverty rate (Poverty Count / Population)\n",
    "census_pd[\"Poverty rate\"] = 100 * \\\n",
    "    census_pd[\"Poverty count\"].astype(\n",
    "        int) / census_pd[\"Population\"].astype(int)\n",
    "\n",
    "\n",
    "# Add a new column for unemployment rate (Employment Count / Population)\n",
    "census_pd[\"Unemployment rate\"] = 100 * \\\n",
    "    census_pd[\"Unemployment count\"].astype(\n",
    "        int) / census_pd[\"Population\"].astype(int)\n",
    "census_pd.head()"
   ]
  },
  {
   "cell_type": "code",
   "execution_count": null,
   "id": "2a70ad76",
   "metadata": {},
   "outputs": [],
   "source": [
    "# Add in home ownership rate (# owner-occupied units / # of occupied housing units)\n",
    "# sum 2 columns: total owner-occupied units + total renter-occupied units to create additional column \"Total occupied units\" \n",
    "sum_column = census_pd['Total owner-occupied units'] + census_pd['Total renter-occupied units']\n",
    "census_pd[\"Total occupied units\"] = sum_column"
   ]
  },
  {
   "cell_type": "code",
   "execution_count": null,
   "id": "d6636106",
   "metadata": {},
   "outputs": [],
   "source": [
    "census_pd[\"Home ownership rate\"] = 100 * \\\n",
    "    census_pd[\"Total owner-occupied units\"].astype(\n",
    "        int) / census_pd[\"Total occupied units\"].astype(\n",
    "        int) \n",
    "\n",
    "census_pd.head()"
   ]
  },
  {
   "cell_type": "code",
   "execution_count": null,
   "id": "5e382063",
   "metadata": {},
   "outputs": [],
   "source": [
    "# round the home ownership rate to one decimal point; using \"float\" instead of \"int\" because want to use decimal points\n",
    "census_pd[\"Home ownership rate\"] = census_pd[\"Home ownership rate\"].astype(float).round(1)\n"
   ]
  },
  {
   "cell_type": "code",
   "execution_count": null,
   "id": "fdd83a0b",
   "metadata": {},
   "outputs": [],
   "source": [
    "census_pd[\"Poverty rate\"] = census_pd[\"Poverty rate\"].astype(float).round(1)\n"
   ]
  },
  {
   "cell_type": "code",
   "execution_count": null,
   "id": "4de68d90",
   "metadata": {},
   "outputs": [],
   "source": [
    "census_pd[\"Unemployment rate\"] = census_pd[\"Unemployment rate\"].astype(float).round(1)\n",
    "census_pd.head()"
   ]
  },
  {
   "cell_type": "code",
   "execution_count": null,
   "id": "94b74bff",
   "metadata": {},
   "outputs": [],
   "source": [
    "# Calculate population density  see: https://www.census.gov/quickfacts/fact/note/US/LND110210\n",
    "# density is expressed as \"population per square mile(kilometer)\"\n",
    "# Divide total population (or # of housing units)/ by land area of the entity measured in square miles"
   ]
  },
  {
   "cell_type": "code",
   "execution_count": null,
   "id": "f23f2e7f",
   "metadata": {},
   "outputs": [],
   "source": [
    "# Change order of columns in DataFrame by using double brackets\n",
    "census_pd = census_pd[[\"State\", \"Name\", \"GEOID\", \"Population\", \"Median household income\",\n",
    "                       \"Per capita income\", \"Poverty count\", \"Poverty rate\", \"Unemployment rate\", \n",
    "                       \"# employed, age 16+\", \"Unemployment count\",\n",
    "                      \"# persons age 25+ graduated high school\", \"# persons age 25+ with Bachelor's degree\",\n",
    "                      \"Median age\",\"Pop. white\", \"Pop. Black\", \"Pop. 2 or more races\", \"Pop. Hispanic origin\", \n",
    "                      \"Total pop. in occupied housing units by tenure\", \"Total owner-occupied units\", \"Total renter-occupied units\",\n",
    "                      \"Labor force status by presence of computer/ internet in HH\"]]\n",
    "\n",
    "census_pd.head()"
   ]
  },
  {
   "cell_type": "code",
   "execution_count": null,
   "id": "15cf14e2",
   "metadata": {},
   "outputs": [],
   "source": [
    "census_pd.count()"
   ]
  },
  {
   "cell_type": "code",
   "execution_count": null,
   "id": "64acadbe",
   "metadata": {},
   "outputs": [],
   "source": [
    "# Split the \"Name\" column into 3 separate columns: \"Census_Tract\", \"County\", \"State\"\n",
    "census_pd[['Census_Tract', \"County\", \"State\"]]= census_pd['Name'].str.split(\",\", n=3, expand=True)\n",
    "census_pd.head()"
   ]
  },
  {
   "cell_type": "code",
   "execution_count": null,
   "id": "e5fc803e",
   "metadata": {},
   "outputs": [],
   "source": [
    "# Remove \"State\" column because it's understood we are looking at MD data\n",
    "census_pd = census_pd.drop([\"State\"], axis=1)\n",
    "census_pd.head()"
   ]
  },
  {
   "cell_type": "code",
   "execution_count": null,
   "id": "4355400f",
   "metadata": {},
   "outputs": [],
   "source": [
    "# list the columns in the census_pd dataframe\n",
    "census_pd.columns"
   ]
  },
  {
   "cell_type": "code",
   "execution_count": null,
   "id": "ed9a12c2",
   "metadata": {},
   "outputs": [],
   "source": [
    "# Create new column \"Census_Tract\" and remove the text \"Census Tract\" from the values in that column (to make calculations easier)\n",
    "census_pd[\"Census_Tract\"] = census_pd['Census_Tract'].str.replace('Census Tract', \"\") \n",
    "census_pd.head()"
   ]
  },
  {
   "cell_type": "code",
   "execution_count": null,
   "id": "cbb0e0db",
   "metadata": {},
   "outputs": [],
   "source": [
    "# Calculate the number of unique census tracts in the DataFrame\n",
    "tract_count = len(census_pd[\"Census_Tract\"].unique())\n",
    "tract_count"
   ]
  },
  {
   "cell_type": "code",
   "execution_count": null,
   "id": "08e7b92e",
   "metadata": {},
   "outputs": [],
   "source": [
    "census_final = census_pd.drop([\"Name\"], axis=1)\n",
    "census_final.head()"
   ]
  },
  {
   "cell_type": "code",
   "execution_count": null,
   "id": "30c4d4b8",
   "metadata": {},
   "outputs": [],
   "source": [
    "# Calculations can also be performed on Series and added into DataFrames as new columns\n",
    "#thousands_of_dollars = data_file_df[\"Amount\"]/1000\n",
    "#data_file_df[\"Thousands of Dollars\"] = thousands_of_dollars\n",
    "\n",
    "#data_file_df.head()"
   ]
  },
  {
   "cell_type": "code",
   "execution_count": null,
   "id": "bf826c45",
   "metadata": {},
   "outputs": [],
   "source": [
    "# Converting the membership days into weeks and then adding a column to the DataFrame\n",
    "#weeks = training_df[\"Membership (Days)\"]/7\n",
    "#training_df[\"Membership (Weeks)\"] = weeks\n",
    "\n",
    "#training_df.head()"
   ]
  },
  {
   "cell_type": "code",
   "execution_count": null,
   "id": "18725e9c",
   "metadata": {},
   "outputs": [],
   "source": [
    "# Export file as a CSV, without the Pandas index, but with the header\n",
    "census_pd.to_csv(\"Comm_Corridor_Stats_Draft2.csv\", index = False, header=True)"
   ]
  },
  {
   "cell_type": "code",
   "execution_count": null,
   "id": "b32c9212",
   "metadata": {},
   "outputs": [],
   "source": []
  },
  {
   "cell_type": "code",
   "execution_count": null,
   "id": "c5bd0b77",
   "metadata": {},
   "outputs": [],
   "source": []
  }
 ],
 "metadata": {
  "kernelspec": {
   "display_name": "Python 3",
   "language": "python",
   "name": "python3"
  },
  "language_info": {
   "codemirror_mode": {
    "name": "ipython",
    "version": 3
   },
   "file_extension": ".py",
   "mimetype": "text/x-python",
   "name": "python",
   "nbconvert_exporter": "python",
   "pygments_lexer": "ipython3",
   "version": "3.7.9"
  }
 },
 "nbformat": 4,
 "nbformat_minor": 5
}
