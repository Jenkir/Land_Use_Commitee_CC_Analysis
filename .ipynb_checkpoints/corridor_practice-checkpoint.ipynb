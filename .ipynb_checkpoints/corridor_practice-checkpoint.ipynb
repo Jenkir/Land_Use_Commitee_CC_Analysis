{
 "cells": [
  {
   "cell_type": "markdown",
   "id": "c2c20e0f",
   "metadata": {},
   "source": [
    "2019 Census Data for Selected Variables - Baltimore City"
   ]
  },
  {
   "cell_type": "code",
   "execution_count": 1,
   "id": "74466ff9",
   "metadata": {},
   "outputs": [],
   "source": [
    "#pip install us"
   ]
  },
  {
   "cell_type": "code",
   "execution_count": 2,
   "id": "19b852c5",
   "metadata": {},
   "outputs": [],
   "source": [
    "# pip install censusgeocode\n",
    "# pip install censusdata"
   ]
  },
  {
   "cell_type": "code",
   "execution_count": 3,
   "id": "7e74e9f6",
   "metadata": {},
   "outputs": [],
   "source": [
    "# pip install git+git://github.com/geopandas/geopandas.git"
   ]
  },
  {
   "cell_type": "code",
   "execution_count": 4,
   "id": "6750b288",
   "metadata": {},
   "outputs": [],
   "source": [
    "# From https://www.census.gov/programs-surveys/acs/guidance/comparing-acs-data.html:\n",
    "# \"Due to the impact of the COVID-19 pandemic, the Census Bureau changed the 2020 ACS release. \n",
    "# Instead of providing the standard 1-year data products, the Census Bureau released experimental estimates from the 1-year data. \n",
    "# Data users should not compare 2020 ACS 1-year experimental estimates with any other data.\"\""
   ]
  },
  {
   "cell_type": "code",
   "execution_count": 5,
   "id": "ca1ad0f6",
   "metadata": {},
   "outputs": [],
   "source": [
    "# Dependencies\n",
    "import numpy as np\n",
    "import pandas as pd\n",
    "import matplotlib.pyplot as plt\n",
    "import requests\n",
    "from census import Census\n",
    "from us import states\n",
    "# import censusdata \n",
    "import censusgeocode as cg\n",
    "#import gmaps\n",
    "\n",
    "# Census & gmaps API Keys\n",
    "from config import api_key\n",
    "c = Census(api_key, year=2019)\n",
    "\n",
    "# Configure gmaps\n",
    "#gmaps.configure(api_key=gkey)"
   ]
  },
  {
   "cell_type": "code",
   "execution_count": 6,
   "id": "05e0767c",
   "metadata": {},
   "outputs": [],
   "source": [
    "# testing search function\n",
    "#sample = censusdata.search('acs1', 2015, 'concept', 'employment')\n",
    "#print(sample)\n"
   ]
  },
  {
   "cell_type": "code",
   "execution_count": 7,
   "id": "05ef1257",
   "metadata": {},
   "outputs": [],
   "source": [
    "#censusdata.printtable(censusdata.censustable('acs1', 2019, 'B08604'))"
   ]
  },
  {
   "cell_type": "code",
   "execution_count": 8,
   "id": "6f8886e8",
   "metadata": {},
   "outputs": [
    {
     "data": {
      "text/html": [
       "<div>\n",
       "<style scoped>\n",
       "    .dataframe tbody tr th:only-of-type {\n",
       "        vertical-align: middle;\n",
       "    }\n",
       "\n",
       "    .dataframe tbody tr th {\n",
       "        vertical-align: top;\n",
       "    }\n",
       "\n",
       "    .dataframe thead th {\n",
       "        text-align: right;\n",
       "    }\n",
       "</style>\n",
       "<table border=\"1\" class=\"dataframe\">\n",
       "  <thead>\n",
       "    <tr style=\"text-align: right;\">\n",
       "      <th></th>\n",
       "      <th>NAME</th>\n",
       "      <th>B19013_001E</th>\n",
       "      <th>B01003_001E</th>\n",
       "      <th>B01002_001E</th>\n",
       "      <th>B19301_001E</th>\n",
       "      <th>B17001_002E</th>\n",
       "      <th>B23025_005E</th>\n",
       "      <th>B08136_003E</th>\n",
       "      <th>B23025_004E</th>\n",
       "      <th>B15003_017E</th>\n",
       "      <th>state</th>\n",
       "      <th>county</th>\n",
       "      <th>tract</th>\n",
       "    </tr>\n",
       "  </thead>\n",
       "  <tbody>\n",
       "    <tr>\n",
       "      <th>0</th>\n",
       "      <td>Census Tract 2604.03, Baltimore city, Maryland</td>\n",
       "      <td>31625.0</td>\n",
       "      <td>1764.0</td>\n",
       "      <td>27.9</td>\n",
       "      <td>21744.0</td>\n",
       "      <td>436.0</td>\n",
       "      <td>34.0</td>\n",
       "      <td>NaN</td>\n",
       "      <td>885.0</td>\n",
       "      <td>450.0</td>\n",
       "      <td>24</td>\n",
       "      <td>510</td>\n",
       "      <td>260403</td>\n",
       "    </tr>\n",
       "    <tr>\n",
       "      <th>1</th>\n",
       "      <td>Census Tract 2302, Baltimore city, Maryland</td>\n",
       "      <td>107391.0</td>\n",
       "      <td>1982.0</td>\n",
       "      <td>30.7</td>\n",
       "      <td>63973.0</td>\n",
       "      <td>151.0</td>\n",
       "      <td>17.0</td>\n",
       "      <td>NaN</td>\n",
       "      <td>1500.0</td>\n",
       "      <td>72.0</td>\n",
       "      <td>24</td>\n",
       "      <td>510</td>\n",
       "      <td>230200</td>\n",
       "    </tr>\n",
       "    <tr>\n",
       "      <th>2</th>\n",
       "      <td>Census Tract 2601.02, Baltimore city, Maryland</td>\n",
       "      <td>62586.0</td>\n",
       "      <td>4775.0</td>\n",
       "      <td>41.3</td>\n",
       "      <td>25903.0</td>\n",
       "      <td>469.0</td>\n",
       "      <td>151.0</td>\n",
       "      <td>NaN</td>\n",
       "      <td>2366.0</td>\n",
       "      <td>1231.0</td>\n",
       "      <td>24</td>\n",
       "      <td>510</td>\n",
       "      <td>260102</td>\n",
       "    </tr>\n",
       "    <tr>\n",
       "      <th>3</th>\n",
       "      <td>Census Tract 2603.03, Baltimore city, Maryland</td>\n",
       "      <td>17000.0</td>\n",
       "      <td>969.0</td>\n",
       "      <td>37.0</td>\n",
       "      <td>19562.0</td>\n",
       "      <td>377.0</td>\n",
       "      <td>20.0</td>\n",
       "      <td>NaN</td>\n",
       "      <td>286.0</td>\n",
       "      <td>229.0</td>\n",
       "      <td>24</td>\n",
       "      <td>510</td>\n",
       "      <td>260303</td>\n",
       "    </tr>\n",
       "    <tr>\n",
       "      <th>4</th>\n",
       "      <td>Census Tract 2608, Baltimore city, Maryland</td>\n",
       "      <td>40795.0</td>\n",
       "      <td>2332.0</td>\n",
       "      <td>36.1</td>\n",
       "      <td>26895.0</td>\n",
       "      <td>481.0</td>\n",
       "      <td>38.0</td>\n",
       "      <td>NaN</td>\n",
       "      <td>1233.0</td>\n",
       "      <td>394.0</td>\n",
       "      <td>24</td>\n",
       "      <td>510</td>\n",
       "      <td>260800</td>\n",
       "    </tr>\n",
       "  </tbody>\n",
       "</table>\n",
       "</div>"
      ],
      "text/plain": [
       "                                             NAME  B19013_001E  B01003_001E  \\\n",
       "0  Census Tract 2604.03, Baltimore city, Maryland      31625.0       1764.0   \n",
       "1     Census Tract 2302, Baltimore city, Maryland     107391.0       1982.0   \n",
       "2  Census Tract 2601.02, Baltimore city, Maryland      62586.0       4775.0   \n",
       "3  Census Tract 2603.03, Baltimore city, Maryland      17000.0        969.0   \n",
       "4     Census Tract 2608, Baltimore city, Maryland      40795.0       2332.0   \n",
       "\n",
       "   B01002_001E  B19301_001E  B17001_002E  B23025_005E  B08136_003E  \\\n",
       "0         27.9      21744.0        436.0         34.0          NaN   \n",
       "1         30.7      63973.0        151.0         17.0          NaN   \n",
       "2         41.3      25903.0        469.0        151.0          NaN   \n",
       "3         37.0      19562.0        377.0         20.0          NaN   \n",
       "4         36.1      26895.0        481.0         38.0          NaN   \n",
       "\n",
       "   B23025_004E  B15003_017E state county   tract  \n",
       "0        885.0        450.0    24    510  260403  \n",
       "1       1500.0         72.0    24    510  230200  \n",
       "2       2366.0       1231.0    24    510  260102  \n",
       "3        286.0        229.0    24    510  260303  \n",
       "4       1233.0        394.0    24    510  260800  "
      ]
     },
     "execution_count": 8,
     "metadata": {},
     "output_type": "execute_result"
    }
   ],
   "source": [
    "# Run Census Search to retrieve data on Baltimore City, MD (all census tracts in Baltimore City)\n",
    "# ex. \"B23025_005E\" is unemployment count\n",
    "census_data = c.acs5.state_county_tract((\"NAME\", \"B19013_001E\", \"B01003_001E\", \"B01002_001E\",\n",
    "                          \"B19301_001E\",\n",
    "                          \"B17001_002E\",\n",
    "                          \"B23025_005E\",\n",
    "                          \"B08136_003E\",\n",
    "                          \"B23025_004E\",\n",
    "                          \"B23025_005E\",                                     \n",
    "                          \"B15003_017E\"), \n",
    "                          state_fips = \"24\",\n",
    "                          county_fips = \"510\",\n",
    "                          tract = \"*\") \n",
    "\n",
    "# convert to dataframe\n",
    "census_pd = pd.DataFrame(census_data)\n",
    "census_pd.head()\n",
    "                         "
   ]
  },
  {
   "cell_type": "code",
   "execution_count": 9,
   "id": "86c3d1ea",
   "metadata": {},
   "outputs": [
    {
     "name": "stdout",
     "output_type": "stream",
     "text": [
      "Number of rows, columns:  (200, 13)\n"
     ]
    }
   ],
   "source": [
    "# number of rows = # of census tracts in the dataframe\n",
    "print(\"Number of rows, columns: \", census_pd.shape)"
   ]
  },
  {
   "cell_type": "code",
   "execution_count": 10,
   "id": "f948fc28",
   "metadata": {},
   "outputs": [
    {
     "ename": "NameError",
     "evalue": "name 'gpd' is not defined",
     "output_type": "error",
     "traceback": [
      "\u001b[1;31m---------------------------------------------------------------------------\u001b[0m",
      "\u001b[1;31mNameError\u001b[0m                                 Traceback (most recent call last)",
      "\u001b[1;32m<ipython-input-10-4d6b387b4cd0>\u001b[0m in \u001b[0;36m<module>\u001b[1;34m\u001b[0m\n\u001b[0;32m      4\u001b[0m \u001b[1;33m\u001b[0m\u001b[0m\n\u001b[0;32m      5\u001b[0m \u001b[1;31m# Access shapefile of Virginia census tracts\u001b[0m\u001b[1;33m\u001b[0m\u001b[1;33m\u001b[0m\u001b[1;33m\u001b[0m\u001b[0m\n\u001b[1;32m----> 6\u001b[1;33m \u001b[0mmd_tract\u001b[0m \u001b[1;33m=\u001b[0m \u001b[0mgpd\u001b[0m\u001b[1;33m.\u001b[0m\u001b[0mread_file\u001b[0m\u001b[1;33m(\u001b[0m\u001b[1;34m\"https://www2.census.gov/geo/tiger/TIGER2019/TRACT/tl_2019_24_tract.zip\"\u001b[0m\u001b[1;33m)\u001b[0m\u001b[1;33m\u001b[0m\u001b[1;33m\u001b[0m\u001b[0m\n\u001b[0m\u001b[0;32m      7\u001b[0m \u001b[1;33m\u001b[0m\u001b[0m\n\u001b[0;32m      8\u001b[0m \u001b[1;31m# Reproject shapefile to UTM Zone 17N\u001b[0m\u001b[1;33m\u001b[0m\u001b[1;33m\u001b[0m\u001b[1;33m\u001b[0m\u001b[0m\n",
      "\u001b[1;31mNameError\u001b[0m: name 'gpd' is not defined"
     ]
    }
   ],
   "source": [
    "# code excerpted from https://pygis.io/docs/d_access_census.html\n",
    "\n",
    "# Let’s also read into Python a shapefile of the Virginia census tracts and reproject it to the UTM Zone 17N projection. (This shapefile can be downloaded on the Census Bureau’s website on the Cartographic Boundary Files page or the TIGER/Line Shapefiles page.)\n",
    "\n",
    "# Access shapefile of Virginia census tracts\n",
    "md_tract = gpd.read_file(\"https://www2.census.gov/geo/tiger/TIGER2019/TRACT/tl_2019_24_tract.zip\")\n",
    "\n",
    "# Reproject shapefile to UTM Zone 17N\n",
    "# https://spatialreference.org/ref/epsg/wgs-84-utm-zone-17n/\n",
    "\n",
    "# googled \"espg maryland: to find this page: https://epsg.io/6487\n",
    "\n",
    "md_tract = md_tract.to_crs(epsg = 6487)\n",
    "\n",
    "# Print GeoDataFrame of shapefile\n",
    "print(md_tract.head(2))\n",
    "print('Shape: ', md_tract.shape)\n",
    "\n",
    "# Check shapefile projection\n",
    "print(\"\\nThe shapefile projection is: {}\".format(md_tract.crs))\n",
    "\n",
    "\n",
    "# The UTM (Universal Transverse Mercator) coordinate system divides the world into sixty north-south zones, each 6 degrees of longitude wide. UTM zones are numbered consecutively beginning with Zone 1, \n",
    "# which includes the westernmost point of Alaska, and progress eastward to Zone 19, which includes Maine."
   ]
  },
  {
   "cell_type": "code",
   "execution_count": null,
   "id": "73db1f8c",
   "metadata": {},
   "outputs": [],
   "source": [
    "# Column Reordering\n",
    "census_pd = census_pd.rename(columns={\"B01003_001E\": \"Population\",\n",
    "                                      \"B01002_001E\": \"Median Age\",\n",
    "                                      \"B19013_001E\": \"Median Household Income\",\n",
    "                                      \"B19301_001E\": \"Per Capita Income\",\n",
    "                                      \"B17001_002E\": \"Poverty Count\",\n",
    "                                      \"B08136_003E\": \"Time spent commuting (minutes)\",\n",
    "                                      \"B23025_004E\": \"Number of Employed, age 16+\",\n",
    "                                      \"B23025_005E\": \"Unemployment Count\",\n",
    "                                      \"B15003_017E\": \"Number of persons age 25+ graduated high school\",\n",
    "                                      \"NAME\": \"Name\", \"state\": \"State\"})\n",
    "\n",
    "# Add in Poverty Rate (Poverty Count / Population)\n",
    "census_pd[\"Poverty Rate\"] = 100 * \\\n",
    "    census_pd[\"Poverty Count\"].astype(\n",
    "        int) / census_pd[\"Population\"].astype(int)\n",
    "\n",
    "# Add in Employment Rate (Employment Count / Population)\n",
    "census_pd[\"Unemployment Rate\"] = 100 * \\\n",
    "    census_pd[\"Unemployment Count\"].astype(\n",
    "        int) / census_pd[\"Population\"].astype(int)\n",
    "\n",
    "# Final DataFrame\n",
    "census_pd = census_pd[[\"State\", \"Name\", \"Population\", \"Median Age\", \"Median Household Income\",\n",
    "                       \"Per Capita Income\", \"Poverty Count\", \"Poverty Rate\", \"Unemployment Rate\", \n",
    "                       \"Time spent commuting (minutes)\",\"Number of Employed, age 16+\", \"Unemployment Count\",\n",
    "                      \"Number of persons age 25+ graduated high school\"]]\n",
    "\n",
    "census_pd.head()"
   ]
  },
  {
   "cell_type": "code",
   "execution_count": null,
   "id": "2847517f",
   "metadata": {},
   "outputs": [],
   "source": [
    "census_pd[\"Poverty Rate\"] = census_pd[\"Poverty Rate\"].astype(float).round(1)\n",
    "census_pd.head()"
   ]
  },
  {
   "cell_type": "code",
   "execution_count": null,
   "id": "f6dd8eb3",
   "metadata": {},
   "outputs": [],
   "source": [
    "census_pd[\"Unemployment Rate\"] = census_pd[\"Unemployment Rate\"].astype(float).round(1)\n",
    "census_pd.head()"
   ]
  },
  {
   "cell_type": "code",
   "execution_count": null,
   "id": "8e4b2578",
   "metadata": {},
   "outputs": [],
   "source": [
    "census_pd.count()"
   ]
  },
  {
   "cell_type": "code",
   "execution_count": null,
   "id": "c65bb6ed",
   "metadata": {},
   "outputs": [],
   "source": [
    "\n",
    "census_pd[['Census_Tract', \"County\", \"State Name\"]]= census_pd['Name'].str.split(\",\", n=3, expand=True)\n",
    "census_pd.head()"
   ]
  },
  {
   "cell_type": "code",
   "execution_count": null,
   "id": "a09c2068",
   "metadata": {},
   "outputs": [],
   "source": [
    "census_pd = census_pd.drop([\"State\", \"Time spent commuting (minutes)\"], axis=1)\n",
    "census_pd.head()"
   ]
  },
  {
   "cell_type": "code",
   "execution_count": null,
   "id": "bd0679cd",
   "metadata": {},
   "outputs": [],
   "source": [
    "census_pd.columns"
   ]
  },
  {
   "cell_type": "code",
   "execution_count": null,
   "id": "7a129365",
   "metadata": {},
   "outputs": [],
   "source": [
    "# calculate daytime population; from: https://www.census.gov/topics/employment/commuting/guidance/calculations.html\n",
    "# Two methods for calculating commuter-adjusted population estimates:\n",
    "\n",
    "#Method 1: Total resident population + (total workers working in area - workers who lived and worked in same area) - (total workers living in area - workers who lived and worked in same area) OR;\n",
    "#Method 2: Total resident population + Total workers working in area - Total workers living in area.\n",
    "\n",
    "\n"
   ]
  },
  {
   "cell_type": "code",
   "execution_count": null,
   "id": "7ad8449b",
   "metadata": {},
   "outputs": [],
   "source": [
    "# Reorganize the columns using double brackets\n",
    "census_pd = census_pd[[\"State Name\",\"County\",\"Census_Tract\",\"Population\",'Median Age', 'Median Household Income', 'Per Capita Income',\n",
    "       'Poverty Count', 'Poverty Rate', 'Unemployment Rate',\n",
    "       'Time spent commuting (minutes)', 'Number of Employed, age 16+',\n",
    "       'Unemployment Count', 'Number of persons age 25+ graduated high school']]\n",
    "census_pd"
   ]
  },
  {
   "cell_type": "code",
   "execution_count": null,
   "id": "e1ac7a34",
   "metadata": {},
   "outputs": [],
   "source": [
    "census_pd[\"Census_Tract\"] = census_pd['Census_Tract'].str.replace('Census Tract', \"\") \n",
    "census_pd"
   ]
  },
  {
   "cell_type": "code",
   "execution_count": null,
   "id": "333d69d3",
   "metadata": {},
   "outputs": [],
   "source": [
    "# Calculations can also be performed on Series and added into DataFrames as new columns\n",
    "#thousands_of_dollars = data_file_df[\"Amount\"]/1000\n",
    "#data_file_df[\"Thousands of Dollars\"] = thousands_of_dollars\n",
    "\n",
    "#data_file_df.head()"
   ]
  },
  {
   "cell_type": "code",
   "execution_count": null,
   "id": "5f55c0dd",
   "metadata": {},
   "outputs": [],
   "source": [
    "# Converting the membership days into weeks and then adding a column to the DataFrame\n",
    "#weeks = training_df[\"Membership (Days)\"]/7\n",
    "#training_df[\"Membership (Weeks)\"] = weeks\n",
    "\n",
    "#training_df.head()"
   ]
  },
  {
   "cell_type": "code",
   "execution_count": null,
   "id": "f0af7333",
   "metadata": {},
   "outputs": [],
   "source": [
    "# Calculate the number of unique census tracts in the DataFrame\n",
    "tract_count = len(census_pd[\"Census_Tract\"].unique())\n",
    "tract_count"
   ]
  },
  {
   "cell_type": "code",
   "execution_count": null,
   "id": "0f139040",
   "metadata": {},
   "outputs": [],
   "source": [
    "# Export file as a CSV, without the Pandas index, but with the header\n",
    "census_pd.to_csv(\"Comm_Corridor_Stats_Draft1.csv\", index = False, header=True)"
   ]
  },
  {
   "cell_type": "code",
   "execution_count": null,
   "id": "420bcc16",
   "metadata": {},
   "outputs": [],
   "source": []
  },
  {
   "cell_type": "code",
   "execution_count": null,
   "id": "3ad37cc5",
   "metadata": {},
   "outputs": [],
   "source": []
  },
  {
   "cell_type": "code",
   "execution_count": null,
   "id": "620e165c",
   "metadata": {},
   "outputs": [],
   "source": [
    "# Join the attributes of the dataframes together\n",
    "# Source: https://geopandas.org/docs/user_guide/mergingdata.html\n",
    "#va_merge = va_tract.merge(va_df, on = \"GEOID\")\n",
    "\n",
    "# Show result\n",
    "#print(va_merge.head(2))\n",
    "3print('Shape: ', va_merge.shape)"
   ]
  }
 ],
 "metadata": {
  "kernelspec": {
   "display_name": "Python 3",
   "language": "python",
   "name": "python3"
  },
  "language_info": {
   "codemirror_mode": {
    "name": "ipython",
    "version": 3
   },
   "file_extension": ".py",
   "mimetype": "text/x-python",
   "name": "python",
   "nbconvert_exporter": "python",
   "pygments_lexer": "ipython3",
   "version": "3.7.9"
  }
 },
 "nbformat": 4,
 "nbformat_minor": 5
}
