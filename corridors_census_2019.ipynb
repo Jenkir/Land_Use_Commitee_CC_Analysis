{
 "cells": [
  {
   "cell_type": "markdown",
   "id": "4a019160",
   "metadata": {},
   "source": [
    "2019 Census Data for Selected Variables - Baltimore City"
   ]
  },
  {
   "cell_type": "code",
   "execution_count": 1,
   "id": "5f7222ba",
   "metadata": {},
   "outputs": [],
   "source": [
    "#pip install us"
   ]
  },
  {
   "cell_type": "code",
   "execution_count": 2,
   "id": "4d1628d6",
   "metadata": {},
   "outputs": [],
   "source": [
    "# pip install censusgeocode\n",
    "# pip install censusdata\n",
    "conda install geopandas"
   ]
  },
  {
   "cell_type": "code",
   "execution_count": null,
   "id": "8454b110",
   "metadata": {},
   "outputs": [],
   "source": [
    "# From https://www.census.gov/programs-surveys/acs/guidance/comparing-acs-data.html:\n",
    "# \"Due to the impact of the COVID-19 pandemic, the Census Bureau changed the 2020 ACS release. \n",
    "# Instead of providing the standard 1-year data products, the Census Bureau released experimental estimates from the 1-year data. \n",
    "# Data users should not compare 2020 ACS 1-year experimental estimates with any other data.\"\""
   ]
  },
  {
   "cell_type": "code",
   "execution_count": null,
   "id": "3c0ccdd8",
   "metadata": {},
   "outputs": [],
   "source": [
    "# Dependencies\n",
    "import numpy as np\n",
    "import pandas as pd\n",
    "import matplotlib.pyplot as plt\n",
    "import requests\n",
    "from census import Census\n",
    "from us import states\n",
    "# import censusdata \n",
    "import censusgeocode as cg\n",
    "#import gmaps\n",
    "import geopandas as gpd\n",
    "# Census & gmaps API Keys\n",
    "from config import api_key\n",
    "c = Census(api_key, year=2019)\n",
    "\n",
    "# Configure gmaps\n",
    "#gmaps.configure(api_key=gkey)"
   ]
  },
  {
   "cell_type": "code",
   "execution_count": null,
   "id": "0a6134d9",
   "metadata": {},
   "outputs": [],
   "source": [
    "# testing search function\n",
    "#sample = censusdata.search('acs1', 2015, 'concept', 'employment')\n",
    "#print(sample)\n"
   ]
  },
  {
   "cell_type": "code",
   "execution_count": null,
   "id": "542f893f",
   "metadata": {},
   "outputs": [],
   "source": [
    "#censusdata.printtable(censusdata.censustable('acs1', 2019, 'B08604'))"
   ]
  },
  {
   "cell_type": "code",
   "execution_count": null,
   "id": "b9cb84c8",
   "metadata": {},
   "outputs": [],
   "source": [
    "# Run Census Search to retrieve data on Baltimore City, MD (all census tracts in Baltimore City)\n",
    "# ex. \"B23025_005E\" is unemployment count\n",
    "census_data = c.acs5.state_county_tract((\"NAME\", \"B19013_001E\", \"B01003_001E\", \"B01002_001E\",\n",
    "                          \"B19301_001E\",\n",
    "                          \"B17001_002E\",\n",
    "                          \"B23025_005E\",\n",
    "                          \"B08136_003E\",\n",
    "                          \"B23025_004E\",\n",
    "                          \"B23025_005E\",                                     \n",
    "                          \"B15003_017E\"), \n",
    "                          state_fips = \"24\",\n",
    "                          county_fips = \"510\",\n",
    "                          tract = \"*\") \n",
    "\n",
    "# convert to dataframe\n",
    "census_pd = pd.DataFrame(census_data)\n",
    "census_pd.head()\n",
    "                         "
   ]
  },
  {
   "cell_type": "code",
   "execution_count": null,
   "id": "8370756d",
   "metadata": {},
   "outputs": [],
   "source": [
    "# number of rows = # of census tracts in the dataframe\n",
    "print(\"Number of rows, columns: \", census_pd.shape)"
   ]
  },
  {
   "cell_type": "code",
   "execution_count": null,
   "id": "01b0736e",
   "metadata": {},
   "outputs": [],
   "source": [
    "# code excerpted from https://pygis.io/docs/d_access_census.html\n",
    "\n",
    "# Let’s also read into Python a shapefile of the Virginia census tracts and reproject it to the UTM Zone 17N projection. (This shapefile can be downloaded on the Census Bureau’s website on the Cartographic Boundary Files page or the TIGER/Line Shapefiles page.)\n",
    "\n",
    "# Access shapefile of Virginia census tracts\n",
    "md_tract = gpd.read_file(\"https://www2.census.gov/geo/tiger/TIGER2019/TRACT/tl_2019_24_tract.zip\")\n",
    "\n",
    "# Reproject shapefile to UTM Zone 17N\n",
    "# https://spatialreference.org/ref/epsg/wgs-84-utm-zone-17n/\n",
    "\n",
    "# googled \"espg maryland: to find this page: https://epsg.io/6487\n",
    "\n",
    "md_tract = md_tract.to_crs(epsg = 6487)\n",
    "\n",
    "# Print GeoDataFrame of shapefile\n",
    "print(md_tract.head(2))\n",
    "print('Shape: ', md_tract.shape)\n",
    "\n",
    "# Check shapefile projection\n",
    "print(\"\\nThe shapefile projection is: {}\".format(md_tract.crs))\n",
    "\n",
    "\n",
    "# The UTM (Universal Transverse Mercator) coordinate system divides the world into sixty north-south zones, each 6 degrees of longitude wide. UTM zones are numbered consecutively beginning with Zone 1, \n",
    "# which includes the westernmost point of Alaska, and progress eastward to Zone 19, which includes Maine."
   ]
  },
  {
   "cell_type": "code",
   "execution_count": null,
   "id": "412d8fea",
   "metadata": {},
   "outputs": [],
   "source": [
    "# Column Reordering\n",
    "census_pd = census_pd.rename(columns={\"B01003_001E\": \"Population\",\n",
    "                                      \"B01002_001E\": \"Median Age\",\n",
    "                                      \"B19013_001E\": \"Median Household Income\",\n",
    "                                      \"B19301_001E\": \"Per Capita Income\",\n",
    "                                      \"B17001_002E\": \"Poverty Count\",\n",
    "                                      \"B08136_003E\": \"Time spent commuting (minutes)\",\n",
    "                                      \"B23025_004E\": \"Number of Employed, age 16+\",\n",
    "                                      \"B23025_005E\": \"Unemployment Count\",\n",
    "                                      \"B15003_017E\": \"Number of persons age 25+ graduated high school\",\n",
    "                                      \"NAME\": \"Name\", \"state\": \"State\"})\n",
    "\n",
    "# Add in Poverty Rate (Poverty Count / Population)\n",
    "census_pd[\"Poverty Rate\"] = 100 * \\\n",
    "    census_pd[\"Poverty Count\"].astype(\n",
    "        int) / census_pd[\"Population\"].astype(int)\n",
    "\n",
    "# Add in Employment Rate (Employment Count / Population)\n",
    "census_pd[\"Unemployment Rate\"] = 100 * \\\n",
    "    census_pd[\"Unemployment Count\"].astype(\n",
    "        int) / census_pd[\"Population\"].astype(int)\n",
    "\n",
    "# Final DataFrame\n",
    "census_pd = census_pd[[\"State\", \"Name\", \"Population\", \"Median Age\", \"Median Household Income\",\n",
    "                       \"Per Capita Income\", \"Poverty Count\", \"Poverty Rate\", \"Unemployment Rate\", \n",
    "                       \"Time spent commuting (minutes)\",\"Number of Employed, age 16+\", \"Unemployment Count\",\n",
    "                      \"Number of persons age 25+ graduated high school\"]]\n",
    "\n",
    "census_pd.head()"
   ]
  },
  {
   "cell_type": "code",
   "execution_count": null,
   "id": "2c4cec93",
   "metadata": {},
   "outputs": [],
   "source": [
    "census_pd[\"Poverty Rate\"] = census_pd[\"Poverty Rate\"].astype(float).round(1)\n",
    "census_pd.head()"
   ]
  },
  {
   "cell_type": "code",
   "execution_count": null,
   "id": "b3cbca60",
   "metadata": {},
   "outputs": [],
   "source": [
    "census_pd[\"Unemployment Rate\"] = census_pd[\"Unemployment Rate\"].astype(float).round(1)\n",
    "census_pd.head()"
   ]
  },
  {
   "cell_type": "code",
   "execution_count": null,
   "id": "7cf552d9",
   "metadata": {},
   "outputs": [],
   "source": [
    "census_pd.count()"
   ]
  },
  {
   "cell_type": "code",
   "execution_count": null,
   "id": "23fb92fb",
   "metadata": {},
   "outputs": [],
   "source": [
    "\n",
    "census_pd[['Census_Tract', \"County\", \"State Name\"]]= census_pd['Name'].str.split(\",\", n=3, expand=True)\n",
    "census_pd.head()"
   ]
  },
  {
   "cell_type": "code",
   "execution_count": null,
   "id": "c072748a",
   "metadata": {},
   "outputs": [],
   "source": [
    "census_pd = census_pd.drop([\"State\", \"Time spent commuting (minutes)\"], axis=1)\n",
    "census_pd.head()"
   ]
  },
  {
   "cell_type": "code",
   "execution_count": null,
   "id": "f406605d",
   "metadata": {},
   "outputs": [],
   "source": [
    "census_pd.columns"
   ]
  },
  {
   "cell_type": "code",
   "execution_count": null,
   "id": "ffe1e854",
   "metadata": {},
   "outputs": [],
   "source": [
    "# calculate daytime population; from: https://www.census.gov/topics/employment/commuting/guidance/calculations.html\n",
    "# Two methods for calculating commuter-adjusted population estimates:\n",
    "\n",
    "#Method 1: Total resident population + (total workers working in area - workers who lived and worked in same area) - (total workers living in area - workers who lived and worked in same area) OR;\n",
    "#Method 2: Total resident population + Total workers working in area - Total workers living in area.\n",
    "\n",
    "\n"
   ]
  },
  {
   "cell_type": "code",
   "execution_count": 3,
   "id": "1351ec76",
   "metadata": {},
   "outputs": [
    {
     "ename": "NameError",
     "evalue": "name 'census_pd' is not defined",
     "output_type": "error",
     "traceback": [
      "\u001b[1;31m---------------------------------------------------------------------------\u001b[0m",
      "\u001b[1;31mNameError\u001b[0m                                 Traceback (most recent call last)",
      "\u001b[1;32m<ipython-input-3-932ebb6182db>\u001b[0m in \u001b[0;36m<module>\u001b[1;34m\u001b[0m\n\u001b[0;32m      1\u001b[0m \u001b[1;31m# Reorganize the columns using double brackets\u001b[0m\u001b[1;33m\u001b[0m\u001b[1;33m\u001b[0m\u001b[1;33m\u001b[0m\u001b[0m\n\u001b[1;32m----> 2\u001b[1;33m census_pd = census_pd[[\"State Name\",\"County\",\"Census_Tract\",\"Population\",'Median Age', 'Median Household Income', 'Per Capita Income',\n\u001b[0m\u001b[0;32m      3\u001b[0m        \u001b[1;34m'Poverty Count'\u001b[0m\u001b[1;33m,\u001b[0m \u001b[1;34m'Poverty Rate'\u001b[0m\u001b[1;33m,\u001b[0m \u001b[1;34m'Unemployment Rate'\u001b[0m\u001b[1;33m,\u001b[0m\u001b[1;33m\u001b[0m\u001b[1;33m\u001b[0m\u001b[0m\n\u001b[0;32m      4\u001b[0m        \u001b[1;34m'Time spent commuting (minutes)'\u001b[0m\u001b[1;33m,\u001b[0m \u001b[1;34m'Number of Employed, age 16+'\u001b[0m\u001b[1;33m,\u001b[0m\u001b[1;33m\u001b[0m\u001b[1;33m\u001b[0m\u001b[0m\n\u001b[0;32m      5\u001b[0m        'Unemployment Count', 'Number of persons age 25+ graduated high school']]\n",
      "\u001b[1;31mNameError\u001b[0m: name 'census_pd' is not defined"
     ]
    }
   ],
   "source": [
    "# Reorganize the columns using double brackets\n",
    "census_pd = census_pd[[\"State Name\",\"County\",\"Census_Tract\",\"Population\",'Median Age', 'Median Household Income', 'Per Capita Income',\n",
    "       'Poverty Count', 'Poverty Rate', 'Unemployment Rate',\n",
    "       'Time spent commuting (minutes)', 'Number of Employed, age 16+',\n",
    "       'Unemployment Count', 'Number of persons age 25+ graduated high school']]\n",
    "census_pd"
   ]
  },
  {
   "cell_type": "code",
   "execution_count": null,
   "id": "3987285c",
   "metadata": {},
   "outputs": [],
   "source": [
    "census_pd[\"Census_Tract\"] = census_pd['Census_Tract'].str.replace('Census Tract', \"\") \n",
    "census_pd"
   ]
  },
  {
   "cell_type": "code",
   "execution_count": null,
   "id": "f2fc15c1",
   "metadata": {},
   "outputs": [],
   "source": [
    "# Calculations can also be performed on Series and added into DataFrames as new columns\n",
    "#thousands_of_dollars = data_file_df[\"Amount\"]/1000\n",
    "#data_file_df[\"Thousands of Dollars\"] = thousands_of_dollars\n",
    "\n",
    "#data_file_df.head()"
   ]
  },
  {
   "cell_type": "code",
   "execution_count": null,
   "id": "948cc0e9",
   "metadata": {},
   "outputs": [],
   "source": [
    "# Converting the membership days into weeks and then adding a column to the DataFrame\n",
    "#weeks = training_df[\"Membership (Days)\"]/7\n",
    "#training_df[\"Membership (Weeks)\"] = weeks\n",
    "\n",
    "#training_df.head()"
   ]
  },
  {
   "cell_type": "code",
   "execution_count": null,
   "id": "e0d99c13",
   "metadata": {},
   "outputs": [],
   "source": [
    "# Calculate the number of unique census tracts in the DataFrame\n",
    "tract_count = len(census_pd[\"Census_Tract\"].unique())\n",
    "tract_count"
   ]
  },
  {
   "cell_type": "code",
   "execution_count": null,
   "id": "fabf1bcb",
   "metadata": {},
   "outputs": [],
   "source": [
    "# Export file as a CSV, without the Pandas index, but with the header\n",
    "census_pd.to_csv(\"Comm_Corridor_Stats_Draft1.csv\", index = False, header=True)"
   ]
  },
  {
   "cell_type": "code",
   "execution_count": null,
   "id": "58c79e01",
   "metadata": {},
   "outputs": [],
   "source": []
  },
  {
   "cell_type": "code",
   "execution_count": null,
   "id": "07587a68",
   "metadata": {},
   "outputs": [],
   "source": []
  },
  {
   "cell_type": "code",
   "execution_count": null,
   "id": "b7028133",
   "metadata": {},
   "outputs": [],
   "source": [
    "# Join the attributes of the dataframes together\n",
    "# Source: https://geopandas.org/docs/user_guide/mergingdata.html\n",
    "#va_merge = va_tract.merge(va_df, on = \"GEOID\")\n",
    "\n",
    "# Show result\n",
    "#print(va_merge.head(2))\n",
    "3print('Shape: ', va_merge.shape)"
   ]
  }
 ],
 "metadata": {
  "kernelspec": {
   "display_name": "Python 3",
   "language": "python",
   "name": "python3"
  },
  "language_info": {
   "codemirror_mode": {
    "name": "ipython",
    "version": 3
   },
   "file_extension": ".py",
   "mimetype": "text/x-python",
   "name": "python",
   "nbconvert_exporter": "python",
   "pygments_lexer": "ipython3",
   "version": "3.7.9"
  }
 },
 "nbformat": 4,
 "nbformat_minor": 5
}
